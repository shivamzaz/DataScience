{
 "cells": [
  {
   "cell_type": "code",
   "execution_count": 2,
   "metadata": {
    "collapsed": false
   },
   "outputs": [
    {
     "name": "stdout",
     "output_type": "stream",
     "text": [
      "4 1 2 4 5 6\n",
      "4,70 5,107 6,152 \n"
     ]
    }
   ],
   "source": [
    "STR=raw_input()\n",
    "To_list=map(int,STR.split(\" \"))\n",
    "Empt_dict={}\n",
    "for iterator in range(3,len(To_list),1):\n",
    "\tEmpt_dict[To_list[iterator]]=To_list[0]*pow(To_list[iterator],2)+To_list[1]*To_list[iterator]+To_list[2]\n",
    "update_dict=sorted(Empt_dict.items(), key=lambda x:x[1])\n",
    "Emp_Str=\"\"\n",
    "for iterator in range(len(update_dict)):\n",
    "\tupdate_dict[iterator]=map(str,list(update_dict[iterator]))\n",
    "\tEmp_Str+=\",\".join(update_dict[iterator])+\" \"\n",
    "print Emp_Str"
   ]
  },
  {
   "cell_type": "code",
   "execution_count": null,
   "metadata": {
    "collapsed": true
   },
   "outputs": [],
   "source": []
  }
 ],
 "metadata": {
  "kernelspec": {
   "display_name": "Python 2",
   "language": "python",
   "name": "python2"
  },
  "language_info": {
   "codemirror_mode": {
    "name": "ipython",
    "version": 2
   },
   "file_extension": ".py",
   "mimetype": "text/x-python",
   "name": "python",
   "nbconvert_exporter": "python",
   "pygments_lexer": "ipython2",
   "version": "2.7.10"
  }
 },
 "nbformat": 4,
 "nbformat_minor": 0
}
